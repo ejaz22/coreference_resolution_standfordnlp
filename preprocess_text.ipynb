{
 "cells": [
  {
   "cell_type": "code",
   "execution_count": null,
   "id": "c2bb1d23",
   "metadata": {},
   "outputs": [],
   "source": []
  },
  {
   "cell_type": "code",
   "execution_count": 12,
   "id": "281e733d",
   "metadata": {},
   "outputs": [],
   "source": [
    "import re\n",
    "import string\n",
    "import unidecode\n",
    "import contractions\n",
    "from bs4 import BeautifulSoup\n",
    "\n",
    "ENUM_REGEX = re.compile(r\"\\(\\s*(i|v|[0-9])+\\s*\\)\", re.IGNORECASE)\n",
    "ENUM_ALPHA_LOWER_REGEX = re.compile(r\"\\(\\s*[a-e]\\s*\\)\")\n",
    "BRACKETS_REGEX = re.compile(r\"(\\{\\[\\]\\})\") # removes only brackets\n",
    "BRACKET_WITH_CONTENT_REGEX = re.compile('\\[.*?\\]|\\(.*?\\)|/.*?/') # remove brackets along with content\n",
    "REF_REGEX = re.compile(r\"\\[\\s*[0-9]+\\s*\\]\")\n",
    "ETC_REGEX = re.compile(r\"\\,\\s*etc\\s*\\.\")\n",
    "EG_REGEX = re.compile(r\"\\,\\s*e\\.g\\.\\s*\\,\")\n",
    "IE_REGEX = re.compile(r\"\\,\\s*i\\.e\\.\\s*\\,\")\n",
    "CHARS_REGEX = re.compile(r\"(\\\\|\\/|\\{|\\}|\\[|\\]|\\+|\\*|\\&|\\^|\\~)\")\n",
    "LEADING_DIGITS = re.compile(r'^\\d+')\n",
    "\n",
    "class Preprocess:\n",
    "    \"\"\"\n",
    "    Process one sentences a time.\n",
    "    \"\"\"\n",
    "\n",
    "    def run(self, text:str)->str:\n",
    "        text = self.__remove_html_tags(text)\n",
    "        text = self.__remove_accented_chars(text)\n",
    "        text = self.__expand_contractions(text)\n",
    "        text = self._remove_extra_whitespace(text)\n",
    "        text = ENUM_REGEX.sub('', text.replace('%', ' percent'))\n",
    "        text = ENUM_ALPHA_LOWER_REGEX.sub('', text)\n",
    "        text = REF_REGEX.sub('', text)\n",
    "        text = BRACKET_WITH_CONTENT_REGEX.sub('',text)\n",
    "        text = ETC_REGEX.sub('', text)\n",
    "        text = EG_REGEX.sub(', and', text)\n",
    "        text = IE_REGEX.sub(', and', text)\n",
    "        text = CHARS_REGEX.sub('', text)\n",
    "        text = LEADING_DIGITS.sub('',text)\n",
    "        text = self.__remove_punctuation(text)\n",
    "        text = self._remove_extra_whitespace(text)\n",
    "        return text\n",
    "\n",
    "    def __remove_html_tags(self, text):\n",
    "        soup = BeautifulSoup(text, \"html.parser\")\n",
    "        return soup.get_text(separator=\" \")\n",
    "\n",
    "    def __remove_accented_chars(self, text):\n",
    "        return unidecode.unidecode(text)\n",
    "\n",
    "    def __expand_contractions(self, text):\n",
    "        return contractions.fix(text)\n",
    "\n",
    "    def __remove_punctuation(self, text):\n",
    "        return text.translate(str.maketrans('', '', string.punctuation))\n",
    "    \n",
    "    def _remove_extra_whitespace(self,text):\n",
    "        return \" \".join(text.split())"
   ]
  },
  {
   "cell_type": "code",
   "execution_count": 13,
   "id": "f5f7ac8d",
   "metadata": {},
   "outputs": [
    {
     "data": {
      "text/plain": [
       "'Projects failue should not be is 100 percent of them'"
      ]
     },
     "execution_count": 13,
     "metadata": {},
     "output_type": "execute_result"
    }
   ],
   "source": [
    "s = \"    1. Project's failue shouldn't be (abc)  is 100% of them </p>;\"\n",
    "Preprocess().run(s)"
   ]
  }
 ],
 "metadata": {
  "kernelspec": {
   "display_name": "Python 3 (ipykernel)",
   "language": "python",
   "name": "python3"
  },
  "language_info": {
   "codemirror_mode": {
    "name": "ipython",
    "version": 3
   },
   "file_extension": ".py",
   "mimetype": "text/x-python",
   "name": "python",
   "nbconvert_exporter": "python",
   "pygments_lexer": "ipython3",
   "version": "3.9.7"
  }
 },
 "nbformat": 4,
 "nbformat_minor": 5
}
